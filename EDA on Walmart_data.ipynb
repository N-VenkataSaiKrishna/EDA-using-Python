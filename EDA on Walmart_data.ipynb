{
 "cells": [
  {
   "cell_type": "markdown",
   "id": "b88525f5",
   "metadata": {},
   "source": [
    "# EDA on Walmart data analysis"
   ]
  },
  {
   "cell_type": "code",
   "execution_count": 3,
   "id": "698dae40",
   "metadata": {},
   "outputs": [],
   "source": [
    "#import libraries\n",
    "\n",
    "import numpy as np\n",
    "import pandas as pd\n",
    "from matplotlib import pyplot as plt\n",
    "import seaborn\n",
    "import warnings\n",
    "warnings.filterwarnings('ignore')"
   ]
  },
  {
   "cell_type": "code",
   "execution_count": 4,
   "id": "11560f77",
   "metadata": {},
   "outputs": [],
   "source": [
    "w_data = pd.read_csv('C:/Users/HP/Desktop/Walmart Data Analysis and Forcasting.csv')"
   ]
  },
  {
   "cell_type": "code",
   "execution_count": 5,
   "id": "89d45bbd",
   "metadata": {},
   "outputs": [
    {
     "data": {
      "text/html": [
       "<div>\n",
       "<style scoped>\n",
       "    .dataframe tbody tr th:only-of-type {\n",
       "        vertical-align: middle;\n",
       "    }\n",
       "\n",
       "    .dataframe tbody tr th {\n",
       "        vertical-align: top;\n",
       "    }\n",
       "\n",
       "    .dataframe thead th {\n",
       "        text-align: right;\n",
       "    }\n",
       "</style>\n",
       "<table border=\"1\" class=\"dataframe\">\n",
       "  <thead>\n",
       "    <tr style=\"text-align: right;\">\n",
       "      <th></th>\n",
       "      <th>Store</th>\n",
       "      <th>Date</th>\n",
       "      <th>Weekly_Sales</th>\n",
       "      <th>Holiday_Flag</th>\n",
       "      <th>Temperature</th>\n",
       "      <th>Fuel_Price</th>\n",
       "      <th>CPI</th>\n",
       "      <th>Unemployment</th>\n",
       "    </tr>\n",
       "  </thead>\n",
       "  <tbody>\n",
       "    <tr>\n",
       "      <th>0</th>\n",
       "      <td>1</td>\n",
       "      <td>05-02-2010</td>\n",
       "      <td>1643690.90</td>\n",
       "      <td>0</td>\n",
       "      <td>42.31</td>\n",
       "      <td>2.572</td>\n",
       "      <td>211.096358</td>\n",
       "      <td>8.106</td>\n",
       "    </tr>\n",
       "    <tr>\n",
       "      <th>1</th>\n",
       "      <td>1</td>\n",
       "      <td>12-02-2010</td>\n",
       "      <td>1641957.44</td>\n",
       "      <td>1</td>\n",
       "      <td>38.51</td>\n",
       "      <td>2.548</td>\n",
       "      <td>211.242170</td>\n",
       "      <td>8.106</td>\n",
       "    </tr>\n",
       "    <tr>\n",
       "      <th>2</th>\n",
       "      <td>1</td>\n",
       "      <td>19-02-2010</td>\n",
       "      <td>1611968.17</td>\n",
       "      <td>0</td>\n",
       "      <td>39.93</td>\n",
       "      <td>2.514</td>\n",
       "      <td>211.289143</td>\n",
       "      <td>8.106</td>\n",
       "    </tr>\n",
       "  </tbody>\n",
       "</table>\n",
       "</div>"
      ],
      "text/plain": [
       "   Store        Date  Weekly_Sales  Holiday_Flag  Temperature  Fuel_Price  \\\n",
       "0      1  05-02-2010    1643690.90             0        42.31       2.572   \n",
       "1      1  12-02-2010    1641957.44             1        38.51       2.548   \n",
       "2      1  19-02-2010    1611968.17             0        39.93       2.514   \n",
       "\n",
       "          CPI  Unemployment  \n",
       "0  211.096358         8.106  \n",
       "1  211.242170         8.106  \n",
       "2  211.289143         8.106  "
      ]
     },
     "execution_count": 5,
     "metadata": {},
     "output_type": "execute_result"
    }
   ],
   "source": [
    "w_data.head(3)"
   ]
  },
  {
   "cell_type": "code",
   "execution_count": 6,
   "id": "b31c1664",
   "metadata": {},
   "outputs": [
    {
     "data": {
      "text/plain": [
       "Store           0\n",
       "Date            0\n",
       "Weekly_Sales    0\n",
       "Holiday_Flag    0\n",
       "Temperature     0\n",
       "Fuel_Price      0\n",
       "CPI             0\n",
       "Unemployment    0\n",
       "dtype: int64"
      ]
     },
     "execution_count": 6,
     "metadata": {},
     "output_type": "execute_result"
    }
   ],
   "source": [
    "#check any null values are there \n",
    "\n",
    "w_data.isna().sum()"
   ]
  },
  {
   "cell_type": "code",
   "execution_count": 7,
   "id": "765f43d9",
   "metadata": {},
   "outputs": [
    {
     "data": {
      "text/plain": [
       "(6435, 8)"
      ]
     },
     "execution_count": 7,
     "metadata": {},
     "output_type": "execute_result"
    }
   ],
   "source": [
    "w_data.shape"
   ]
  },
  {
   "cell_type": "code",
   "execution_count": 8,
   "id": "5f3e8b84",
   "metadata": {},
   "outputs": [
    {
     "name": "stdout",
     "output_type": "stream",
     "text": [
      "<class 'pandas.core.frame.DataFrame'>\n",
      "RangeIndex: 6435 entries, 0 to 6434\n",
      "Data columns (total 8 columns):\n",
      " #   Column        Non-Null Count  Dtype  \n",
      "---  ------        --------------  -----  \n",
      " 0   Store         6435 non-null   int64  \n",
      " 1   Date          6435 non-null   object \n",
      " 2   Weekly_Sales  6435 non-null   float64\n",
      " 3   Holiday_Flag  6435 non-null   int64  \n",
      " 4   Temperature   6435 non-null   float64\n",
      " 5   Fuel_Price    6435 non-null   float64\n",
      " 6   CPI           6435 non-null   float64\n",
      " 7   Unemployment  6435 non-null   float64\n",
      "dtypes: float64(5), int64(2), object(1)\n",
      "memory usage: 402.3+ KB\n"
     ]
    }
   ],
   "source": [
    "w_data.info()"
   ]
  },
  {
   "cell_type": "code",
   "execution_count": 9,
   "id": "15a3449a",
   "metadata": {},
   "outputs": [],
   "source": [
    "# Here if you observe 'date' is in some object dtype.now convert it into datetime dtype for further analysis\n",
    "\n",
    "date = pd.to_datetime(w_data['Date'])"
   ]
  },
  {
   "cell_type": "code",
   "execution_count": 10,
   "id": "4848ac3e",
   "metadata": {},
   "outputs": [],
   "source": [
    "w_data['date'] = date"
   ]
  },
  {
   "cell_type": "code",
   "execution_count": 11,
   "id": "166da226",
   "metadata": {},
   "outputs": [],
   "source": [
    "#Dropping 'Date' column which is in object form\n",
    "\n",
    "walmart_data = w_data.drop(['Date'] , axis=1)"
   ]
  },
  {
   "cell_type": "code",
   "execution_count": 12,
   "id": "89c65861",
   "metadata": {},
   "outputs": [],
   "source": [
    "date_in_year = walmart_data['date'].dt.year"
   ]
  },
  {
   "cell_type": "code",
   "execution_count": 13,
   "id": "8eab79d6",
   "metadata": {},
   "outputs": [],
   "source": [
    "walmart_data['date_in_year'] = date_in_year"
   ]
  },
  {
   "cell_type": "code",
   "execution_count": 14,
   "id": "d0198412",
   "metadata": {},
   "outputs": [
    {
     "data": {
      "text/plain": [
       "Store             45\n",
       "Weekly_Sales    6435\n",
       "Holiday_Flag       2\n",
       "Temperature     3528\n",
       "Fuel_Price       892\n",
       "CPI             2145\n",
       "Unemployment     349\n",
       "date             143\n",
       "date_in_year       3\n",
       "dtype: int64"
      ]
     },
     "execution_count": 14,
     "metadata": {},
     "output_type": "execute_result"
    }
   ],
   "source": [
    "walmart_data.nunique()"
   ]
  },
  {
   "cell_type": "code",
   "execution_count": 16,
   "id": "7242ec1e",
   "metadata": {},
   "outputs": [
    {
     "data": {
      "text/plain": [
       "<Figure size 1500x1000 with 0 Axes>"
      ]
     },
     "execution_count": 16,
     "metadata": {},
     "output_type": "execute_result"
    },
    {
     "data": {
      "image/png": "[encoded data removed]",
      "text/plain": [
       "<Figure size 640x480 with 1 Axes>"
      ]
     },
     "metadata": {},
     "output_type": "display_data"
    },
    {
     "data": {
      "text/plain": [
       "<Figure size 1500x1000 with 0 Axes>"
      ]
     },
     "metadata": {},
     "output_type": "display_data"
    }
   ],
   "source": [
    "#which store has the higest sales\n",
    "plt.style.use('ggplot')\n",
    "walmart_data.groupby('Store').sum()['Weekly_Sales'].sort_values(ascending=False).plot.bar()\n",
    "plt.figure(figsize=(15,10))"
   ]
  },
  {
   "cell_type": "markdown",
   "id": "a91830e5",
   "metadata": {},
   "source": [
    "# Observation \n",
    "\n",
    "1. among all stores,20th store has the higest sales"
   ]
  },
  {
   "cell_type": "code",
   "execution_count": 17,
   "id": "152d13a2",
   "metadata": {},
   "outputs": [
    {
     "data": {
      "text/plain": [
       "<Figure size 1500x1000 with 0 Axes>"
      ]
     },
     "execution_count": 17,
     "metadata": {},
     "output_type": "execute_result"
    },
    {
     "data": {
      "image/png": "[encoded data removed]",
      "text/plain": [
       "<Figure size 640x480 with 1 Axes>"
      ]
     },
     "metadata": {},
     "output_type": "display_data"
    },
    {
     "data": {
      "text/plain": [
       "<Figure size 1500x1000 with 0 Axes>"
      ]
     },
     "metadata": {},
     "output_type": "display_data"
    }
   ],
   "source": [
    "#which store has the more sales vary\n",
    "plt.style.use('dark_background')\n",
    "walmart_data.groupby('Store').std()['Weekly_Sales'].sort_values(ascending=False).plot.bar()\n",
    "plt.figure(figsize=(15,10))"
   ]
  },
  {
   "cell_type": "markdown",
   "id": "9e45ec31",
   "metadata": {},
   "source": [
    "# Observation\n",
    "\n",
    "1. Store 14 has more sales vary"
   ]
  },
  {
   "cell_type": "code",
   "execution_count": 22,
   "id": "60ccd877",
   "metadata": {},
   "outputs": [
    {
     "data": {
      "text/plain": [
       "<AxesSubplot:xlabel='date_in_year'>"
      ]
     },
     "execution_count": 22,
     "metadata": {},
     "output_type": "execute_result"
    },
    {
     "data": {
      "image/png": "[encoded data removed]",
      "text/plain": [
       "<Figure size 640x480 with 1 Axes>"
      ]
     },
     "metadata": {},
     "output_type": "display_data"
    }
   ],
   "source": [
    "# In which year sales are more\n",
    "plt.style.use('ggplot')\n",
    "walmart_data.groupby('date_in_year').sum()['Weekly_Sales'].sort_values(ascending=False).plot.bar()"
   ]
  },
  {
   "cell_type": "code",
   "execution_count": 23,
   "id": "02a3de5e",
   "metadata": {},
   "outputs": [
    {
     "data": {
      "image/png": "[encoded data removed]",
      "text/plain": [
       "<Figure size 640x480 with 1 Axes>"
      ]
     },
     "metadata": {},
     "output_type": "display_data"
    }
   ],
   "source": [
    "#In which year umemployement rate is more\n",
    "w_unemploy = walmart_data.groupby('date_in_year').sum()['Unemployment'].sort_values(ascending=False).plot.pie(autopct='%0.1f%%')"
   ]
  },
  {
   "cell_type": "code",
   "execution_count": 24,
   "id": "f0695b99",
   "metadata": {},
   "outputs": [
    {
     "data": {
      "image/png": "[encoded data removed]",
      "text/plain": [
       "<Figure size 640x480 with 1 Axes>"
      ]
     },
     "metadata": {},
     "output_type": "display_data"
    }
   ],
   "source": [
    "# In which year fuel prices are more\n",
    "w_fuelprice = walmart_data.groupby('date_in_year').sum()['Fuel_Price'].sort_values(ascending=False).plot.pie(autopct='%0.1f%%')\n"
   ]
  },
  {
   "cell_type": "code",
   "execution_count": 25,
   "id": "656e32bd",
   "metadata": {},
   "outputs": [
    {
     "data": {
      "image/png": "[encoded data removed]",
      "text/plain": [
       "<Figure size 640x480 with 1 Axes>"
      ]
     },
     "metadata": {},
     "output_type": "display_data"
    }
   ],
   "source": [
    "# In which year 'CPI' are more\n",
    "w_cpi = walmart_data.groupby('date_in_year').sum()['CPI'].sort_values(ascending=False).plot.pie(autopct='%0.1f%%')"
   ]
  },
  {
   "cell_type": "code",
   "execution_count": 26,
   "id": "dfcff008",
   "metadata": {},
   "outputs": [
    {
     "data": {
      "text/plain": [
       "<AxesSubplot:xlabel='date_in_year,Holiday_Flag'>"
      ]
     },
     "execution_count": 26,
     "metadata": {},
     "output_type": "execute_result"
    },
    {
     "data": {
      "image/png": "[encoded data removed]",
      "text/plain": [
       "<Figure size 640x480 with 1 Axes>"
      ]
     },
     "metadata": {},
     "output_type": "display_data"
    }
   ],
   "source": [
    "#which year holidays are more\n",
    "walmart_data.groupby('date_in_year')['Holiday_Flag'].value_counts().sort_values(ascending=False).plot.bar()"
   ]
  },
  {
   "cell_type": "code",
   "execution_count": 27,
   "id": "4e091491",
   "metadata": {},
   "outputs": [],
   "source": [
    "#convert date into months\n",
    "\n",
    "date_in_months = walmart_data['date'].dt.month\n",
    "\n",
    "walmart_data['date_in_months'] = date_in_months"
   ]
  },
  {
   "cell_type": "code",
   "execution_count": 28,
   "id": "7dc0e304",
   "metadata": {},
   "outputs": [
    {
     "name": "stdout",
     "output_type": "stream",
     "text": [
      "<class 'pandas.core.frame.DataFrame'>\n",
      "RangeIndex: 6435 entries, 0 to 6434\n",
      "Data columns (total 10 columns):\n",
      " #   Column          Non-Null Count  Dtype         \n",
      "---  ------          --------------  -----         \n",
      " 0   Store           6435 non-null   int64         \n",
      " 1   Weekly_Sales    6435 non-null   float64       \n",
      " 2   Holiday_Flag    6435 non-null   int64         \n",
      " 3   Temperature     6435 non-null   float64       \n",
      " 4   Fuel_Price      6435 non-null   float64       \n",
      " 5   CPI             6435 non-null   float64       \n",
      " 6   Unemployment    6435 non-null   float64       \n",
      " 7   date            6435 non-null   datetime64[ns]\n",
      " 8   date_in_year    6435 non-null   int64         \n",
      " 9   date_in_months  6435 non-null   int64         \n",
      "dtypes: datetime64[ns](1), float64(5), int64(4)\n",
      "memory usage: 502.9 KB\n"
     ]
    }
   ],
   "source": [
    "walmart_data.info()"
   ]
  },
  {
   "cell_type": "markdown",
   "id": "0e12eb18",
   "metadata": {},
   "source": [
    "# Observations\n",
    "\n",
    "1. In 2011 sales are more\n",
    "2. In 2011 year umemployement rate is more\n",
    "3. In 2011 year fuel prices are more\n",
    "4. In 2011 year 'CPI' are more\n",
    "\n",
    "#The reason behind 2011 sales are more because the CPI(consumer price index) is more \n",
    ".CPI means goods related to food,clothing,transporting and many more were included in CPI.\n",
    ".Therefore if CPI value is increasing goods prices also increasing "
   ]
  },
  {
   "cell_type": "code",
   "execution_count": 29,
   "id": "7024c72f",
   "metadata": {},
   "outputs": [],
   "source": [
    "w_2012_data = walmart_data[walmart_data['date_in_year']==2012]"
   ]
  },
  {
   "cell_type": "code",
   "execution_count": 30,
   "id": "7dede247",
   "metadata": {},
   "outputs": [
    {
     "data": {
      "text/html": [
       "<div>\n",
       "<style scoped>\n",
       "    .dataframe tbody tr th:only-of-type {\n",
       "        vertical-align: middle;\n",
       "    }\n",
       "\n",
       "    .dataframe tbody tr th {\n",
       "        vertical-align: top;\n",
       "    }\n",
       "\n",
       "    .dataframe thead th {\n",
       "        text-align: right;\n",
       "    }\n",
       "</style>\n",
       "<table border=\"1\" class=\"dataframe\">\n",
       "  <thead>\n",
       "    <tr style=\"text-align: right;\">\n",
       "      <th></th>\n",
       "      <th>Store</th>\n",
       "      <th>Weekly_Sales</th>\n",
       "      <th>Holiday_Flag</th>\n",
       "      <th>Temperature</th>\n",
       "      <th>Fuel_Price</th>\n",
       "      <th>CPI</th>\n",
       "      <th>Unemployment</th>\n",
       "      <th>date</th>\n",
       "      <th>date_in_year</th>\n",
       "      <th>date_in_months</th>\n",
       "    </tr>\n",
       "  </thead>\n",
       "  <tbody>\n",
       "    <tr>\n",
       "      <th>100</th>\n",
       "      <td>1</td>\n",
       "      <td>1550369.92</td>\n",
       "      <td>0</td>\n",
       "      <td>49.01</td>\n",
       "      <td>3.157</td>\n",
       "      <td>219.714258</td>\n",
       "      <td>7.348</td>\n",
       "      <td>2012-06-01</td>\n",
       "      <td>2012</td>\n",
       "      <td>6</td>\n",
       "    </tr>\n",
       "    <tr>\n",
       "      <th>101</th>\n",
       "      <td>1</td>\n",
       "      <td>1459601.17</td>\n",
       "      <td>0</td>\n",
       "      <td>48.53</td>\n",
       "      <td>3.261</td>\n",
       "      <td>219.892526</td>\n",
       "      <td>7.348</td>\n",
       "      <td>2012-01-13</td>\n",
       "      <td>2012</td>\n",
       "      <td>1</td>\n",
       "    </tr>\n",
       "    <tr>\n",
       "      <th>102</th>\n",
       "      <td>1</td>\n",
       "      <td>1394393.84</td>\n",
       "      <td>0</td>\n",
       "      <td>54.11</td>\n",
       "      <td>3.268</td>\n",
       "      <td>219.985689</td>\n",
       "      <td>7.348</td>\n",
       "      <td>2012-01-20</td>\n",
       "      <td>2012</td>\n",
       "      <td>1</td>\n",
       "    </tr>\n",
       "    <tr>\n",
       "      <th>103</th>\n",
       "      <td>1</td>\n",
       "      <td>1319325.59</td>\n",
       "      <td>0</td>\n",
       "      <td>54.26</td>\n",
       "      <td>3.290</td>\n",
       "      <td>220.078852</td>\n",
       "      <td>7.348</td>\n",
       "      <td>2012-01-27</td>\n",
       "      <td>2012</td>\n",
       "      <td>1</td>\n",
       "    </tr>\n",
       "    <tr>\n",
       "      <th>104</th>\n",
       "      <td>1</td>\n",
       "      <td>1636339.65</td>\n",
       "      <td>0</td>\n",
       "      <td>56.55</td>\n",
       "      <td>3.360</td>\n",
       "      <td>220.172015</td>\n",
       "      <td>7.348</td>\n",
       "      <td>2012-03-02</td>\n",
       "      <td>2012</td>\n",
       "      <td>3</td>\n",
       "    </tr>\n",
       "    <tr>\n",
       "      <th>...</th>\n",
       "      <td>...</td>\n",
       "      <td>...</td>\n",
       "      <td>...</td>\n",
       "      <td>...</td>\n",
       "      <td>...</td>\n",
       "      <td>...</td>\n",
       "      <td>...</td>\n",
       "      <td>...</td>\n",
       "      <td>...</td>\n",
       "      <td>...</td>\n",
       "    </tr>\n",
       "    <tr>\n",
       "      <th>6430</th>\n",
       "      <td>45</td>\n",
       "      <td>713173.95</td>\n",
       "      <td>0</td>\n",
       "      <td>64.88</td>\n",
       "      <td>3.997</td>\n",
       "      <td>192.013558</td>\n",
       "      <td>8.684</td>\n",
       "      <td>2012-09-28</td>\n",
       "      <td>2012</td>\n",
       "      <td>9</td>\n",
       "    </tr>\n",
       "    <tr>\n",
       "      <th>6431</th>\n",
       "      <td>45</td>\n",
       "      <td>733455.07</td>\n",
       "      <td>0</td>\n",
       "      <td>64.89</td>\n",
       "      <td>3.985</td>\n",
       "      <td>192.170412</td>\n",
       "      <td>8.667</td>\n",
       "      <td>2012-05-10</td>\n",
       "      <td>2012</td>\n",
       "      <td>5</td>\n",
       "    </tr>\n",
       "    <tr>\n",
       "      <th>6432</th>\n",
       "      <td>45</td>\n",
       "      <td>734464.36</td>\n",
       "      <td>0</td>\n",
       "      <td>54.47</td>\n",
       "      <td>4.000</td>\n",
       "      <td>192.327265</td>\n",
       "      <td>8.667</td>\n",
       "      <td>2012-12-10</td>\n",
       "      <td>2012</td>\n",
       "      <td>12</td>\n",
       "    </tr>\n",
       "    <tr>\n",
       "      <th>6433</th>\n",
       "      <td>45</td>\n",
       "      <td>718125.53</td>\n",
       "      <td>0</td>\n",
       "      <td>56.47</td>\n",
       "      <td>3.969</td>\n",
       "      <td>192.330854</td>\n",
       "      <td>8.667</td>\n",
       "      <td>2012-10-19</td>\n",
       "      <td>2012</td>\n",
       "      <td>10</td>\n",
       "    </tr>\n",
       "    <tr>\n",
       "      <th>6434</th>\n",
       "      <td>45</td>\n",
       "      <td>760281.43</td>\n",
       "      <td>0</td>\n",
       "      <td>58.85</td>\n",
       "      <td>3.882</td>\n",
       "      <td>192.308899</td>\n",
       "      <td>8.667</td>\n",
       "      <td>2012-10-26</td>\n",
       "      <td>2012</td>\n",
       "      <td>10</td>\n",
       "    </tr>\n",
       "  </tbody>\n",
       "</table>\n",
       "<p>1935 rows × 10 columns</p>\n",
       "</div>"
      ],
      "text/plain": [
       "      Store  Weekly_Sales  Holiday_Flag  Temperature  Fuel_Price         CPI  \\\n",
       "100       1    1550369.92             0        49.01       3.157  219.714258   \n",
       "101       1    1459601.17             0        48.53       3.261  219.892526   \n",
       "102       1    1394393.84             0        54.11       3.268  219.985689   \n",
       "103       1    1319325.59             0        54.26       3.290  220.078852   \n",
       "104       1    1636339.65             0        56.55       3.360  220.172015   \n",
       "...     ...           ...           ...          ...         ...         ...   \n",
       "6430     45     713173.95             0        64.88       3.997  192.013558   \n",
       "6431     45     733455.07             0        64.89       3.985  192.170412   \n",
       "6432     45     734464.36             0        54.47       4.000  192.327265   \n",
       "6433     45     718125.53             0        56.47       3.969  192.330854   \n",
       "6434     45     760281.43             0        58.85       3.882  192.308899   \n",
       "\n",
       "      Unemployment       date  date_in_year  date_in_months  \n",
       "100          7.348 2012-06-01          2012               6  \n",
       "101          7.348 2012-01-13          2012               1  \n",
       "102          7.348 2012-01-20          2012               1  \n",
       "103          7.348 2012-01-27          2012               1  \n",
       "104          7.348 2012-03-02          2012               3  \n",
       "...            ...        ...           ...             ...  \n",
       "6430         8.684 2012-09-28          2012               9  \n",
       "6431         8.667 2012-05-10          2012               5  \n",
       "6432         8.667 2012-12-10          2012              12  \n",
       "6433         8.667 2012-10-19          2012              10  \n",
       "6434         8.667 2012-10-26          2012              10  \n",
       "\n",
       "[1935 rows x 10 columns]"
      ]
     },
     "execution_count": 30,
     "metadata": {},
     "output_type": "execute_result"
    }
   ],
   "source": [
    "w_2012_data"
   ]
  },
  {
   "cell_type": "code",
   "execution_count": 31,
   "id": "21d3ce13",
   "metadata": {},
   "outputs": [
    {
     "data": {
      "text/plain": [
       "Text(0.5, 1.0, 'Highest month sales in 2012')"
      ]
     },
     "execution_count": 31,
     "metadata": {},
     "output_type": "execute_result"
    },
    {
     "data": {
      "image/png": "[encoded data removed]",
      "text/plain": [
       "<Figure size 640x480 with 1 Axes>"
      ]
     },
     "metadata": {},
     "output_type": "display_data"
    }
   ],
   "source": [
    "#In 2012 which month has more sales\n",
    "\n",
    "w_2012_data.groupby('date_in_months').sum()['Weekly_Sales'].plot.bar()\n",
    "plt.title('Highest month sales in 2012')"
   ]
  },
  {
   "cell_type": "code",
   "execution_count": 32,
   "id": "a5c0d60b",
   "metadata": {},
   "outputs": [],
   "source": [
    "#finding quaterly sales in 2012\n",
    "\n",
    "first_quarter_sales = w_2012_data[w_2012_data['date_in_months']<=3]\n",
    "\n",
    "second_quarter_sales = w_2012_data[(w_2012_data['date_in_months']>3) & (w_2012_data['date_in_months']<=6)]\n",
    "\n",
    "third_quarter_sales = w_2012_data[(w_2012_data['date_in_months']>6) & (w_2012_data['date_in_months']<=9)]\n",
    "\n",
    "fourth_quarter_sales = w_2012_data[(w_2012_data['date_in_months']>6) & (w_2012_data['date_in_months']<=12)]\n"
   ]
  },
  {
   "cell_type": "code",
   "execution_count": 33,
   "id": "01d2b406",
   "metadata": {},
   "outputs": [
    {
     "name": "stdout",
     "output_type": "stream",
     "text": [
      "first_quarter_sales: 545789966.99\n",
      "second_quarter_sales: 617214097.34\n",
      "third_quarter_sales: 555995015.96\n",
      "fourth_quarter_sales: 837128795.02\n"
     ]
    }
   ],
   "source": [
    "print('first_quarter_sales:',first_quarter_sales['Weekly_Sales'].sum())\n",
    "\n",
    "print('second_quarter_sales:',second_quarter_sales['Weekly_Sales'].sum())\n",
    "\n",
    "print('third_quarter_sales:',third_quarter_sales['Weekly_Sales'].sum())\n",
    "\n",
    "print('fourth_quarter_sales:',fourth_quarter_sales['Weekly_Sales'].sum())"
   ]
  },
  {
   "cell_type": "markdown",
   "id": "40ab5779",
   "metadata": {},
   "source": [
    "# Observation\n",
    "\n",
    "fourth quarter sales has more sales compare to other quarter sales"
   ]
  },
  {
   "cell_type": "code",
   "execution_count": null,
   "id": "c2af316d",
   "metadata": {},
   "outputs": [],
   "source": []
  }
 ],
 "metadata": {
  "kernelspec": {
   "display_name": "Python 3 (ipykernel)",
   "language": "python",
   "name": "python3"
  },
  "language_info": {
   "codemirror_mode": {
    "name": "ipython",
    "version": 3
   },
   "file_extension": ".py",
   "mimetype": "text/x-python",
   "name": "python",
   "nbconvert_exporter": "python",
   "pygments_lexer": "ipython3",
   "version": "3.9.13"
  }
 },
 "nbformat": 4,
 "nbformat_minor": 5
}
